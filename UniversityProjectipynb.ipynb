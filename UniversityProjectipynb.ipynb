{
  "nbformat": 4,
  "nbformat_minor": 0,
  "metadata": {
    "colab": {
      "provenance": [],
      "authorship_tag": "ABX9TyMg72JYPpO7OxAkiv5UnuT/",
      "include_colab_link": true
    },
    "kernelspec": {
      "name": "python3",
      "display_name": "Python 3"
    },
    "language_info": {
      "name": "python"
    }
  },
  "cells": [
    {
      "cell_type": "markdown",
      "metadata": {
        "id": "view-in-github",
        "colab_type": "text"
      },
      "source": [
        "<a href=\"https://colab.research.google.com/github/GhouI/RetailMarketAnalysis/blob/main/UniversityProjectipynb.ipynb\" target=\"_parent\"><img src=\"https://colab.research.google.com/assets/colab-badge.svg\" alt=\"Open In Colab\"/></a>"
      ]
    },
    {
      "cell_type": "code",
      "execution_count": null,
      "metadata": {
        "id": "bKreP60eI7aN"
      },
      "outputs": [],
      "source": [
        "!pip install pandas scikit-learn matplotlib seaborn"
      ]
    },
    {
      "cell_type": "code",
      "source": [
        "import pandas as pd\n",
        "import numpy as np\n",
        "import matplotlib.pyplot as plt\n",
        "from sklearn.preprocessing import LabelEncoder, StandardScaler\n",
        "from sklearn.cluster import KMeans\n",
        "from sklearn.metrics import silhouette_score\n",
        "from sklearn.decomposition import PCA\n",
        "import seaborn as sns"
      ],
      "metadata": {
        "id": "F8_DWsxgJg_3"
      },
      "execution_count": 3,
      "outputs": []
    },
    {
      "cell_type": "code",
      "source": [
        "dataset = pd.read_csv('retail_sales_dataset.csv')"
      ],
      "metadata": {
        "id": "I9qQwSRiJrdL"
      },
      "execution_count": 5,
      "outputs": []
    },
    {
      "cell_type": "markdown",
      "source": [
        "Data Exploration"
      ],
      "metadata": {
        "id": "6ZHSnAvTTlHq"
      }
    },
    {
      "cell_type": "code",
      "source": [
        "#data types\n",
        "print(dataset.dtypes)\n",
        "#check for missing values\n",
        "missing_values = dataset.isnull().sum()\n",
        "#check for the percentage with the dataset missing values\n",
        "missing_values_percentage = (dataset.isnull().sum() / len(dataset)) * 100\n",
        "print(pd.DataFrame({'Missing Values': missing_values, 'Missing Values Percentage': missing_values_percentage}))\n"
      ],
      "metadata": {
        "id": "DGe2_agdbbbr"
      },
      "execution_count": null,
      "outputs": []
    },
    {
      "cell_type": "code",
      "source": [
        "#Dataset Describing\n",
        "print(\"Describing........\")\n",
        "print(\"dataset top\", dataset.head())\n",
        "print(dataset.describe())\n",
        "\n",
        "dataset.hist(figsize=(10,8))  # Histogram of numerical features\n",
        "plt.show()\n",
        "\n",
        "for col in dataset.select_dtypes(include=[\"object\",\"category\"]).columns:\n",
        "    print(f\"Column: {col}\")\n",
        "    print(dataset[col].value_counts(), \"\\n\")  # Counts for each category"
      ],
      "metadata": {
        "id": "ktjWBV8RRZDi"
      },
      "execution_count": null,
      "outputs": []
    },
    {
      "cell_type": "markdown",
      "source": [
        "Data Cleaning"
      ],
      "metadata": {
        "id": "-raxHVT2iMP7"
      }
    },
    {
      "cell_type": "code",
      "source": [
        "\n",
        "gendre_label_encoder = LabelEncoder()\n",
        "product_category_label_encoder = LabelEncoder()\n",
        "\n",
        "cloned_dataset = dataset.copy();\n",
        "\n",
        "cloned_dataset.drop('Customer ID', axis=1, inplace=True)\n",
        "cloned_dataset.drop('Date', axis=1, inplace=True)\n",
        "cloned_dataset['Age'] = (cloned_dataset['Age'] - cloned_dataset['Age'].mean()) / cloned_dataset['Age'].std()\n",
        "cloned_dataset['Gender'] = gendre_label_encoder.fit_transform(cloned_dataset['Gender'])\n",
        "cloned_dataset['Product Category'] = product_category_label_encoder.fit_transform(cloned_dataset['Product Category'])\n",
        "cloned_dataset.drop('Price per Unit', axis=1, inplace=True)\n",
        "cloned_dataset.drop('Quantity', axis=1, inplace=True)\n",
        "\n",
        "cleaned_datasets = pd.DataFrame(cloned_dataset)\n",
        "cleaned_datasets.to_csv('cleaned_dataset.csv', index=False)\n"
      ],
      "metadata": {
        "id": "eOjp6BlDV2dT"
      },
      "execution_count": 8,
      "outputs": []
    },
    {
      "cell_type": "code",
      "source": [
        "#finding the thing\n",
        "inertia = []\n",
        "\n",
        "krange = range(2,11)\n",
        "for k in krange:\n",
        "  kmeans = KMeans(n_clusters=k, random_state=42, n_init=10)\n",
        "  kmeans.fit(cleaned_datasets)\n",
        "  inertia.append(kmeans.inertia_)\n",
        "\n",
        "  if k>=2:\n",
        "    labels = kmeans.labels_\n",
        "\n",
        "\n",
        "# Plot the Elbow Method results\n",
        "plt.figure(figsize=(12, 6))\n",
        "plt.subplot(1, 2, 1)\n",
        "plt.plot(krange, inertia, 'bo-')\n",
        "plt.xlabel('Number of clusters')\n",
        "plt.ylabel('Inertia')\n",
        "plt.title('Elbow Method for Optimal k')\n",
        "plt.grid(True)\n"
      ],
      "metadata": {
        "id": "km8Qs7rXiwod",
        "colab": {
          "base_uri": "https://localhost:8080/",
          "height": 564
        },
        "outputId": "3e395c6a-f5cd-486a-d266-9ad826db5f92"
      },
      "execution_count": 9,
      "outputs": [
        {
          "output_type": "display_data",
          "data": {
            "text/plain": [
              "<Figure size 1200x600 with 1 Axes>"
            ],
            "image/png": "[encoded data removed]"
          },
          "metadata": {}
        }
      ]
    },
    {
      "cell_type": "markdown",
      "source": [
        "# **Using K means Clustering**"
      ],
      "metadata": {
        "id": "V2hiQPA5cQjw"
      }
    },
    {
      "cell_type": "code",
      "source": [
        "amount_of_clusters = 4\n",
        "# Apply final K-means model with 4 clusters\n",
        "kmeans_final = KMeans(n_clusters=4, random_state=42, n_init=10)\n",
        "cluster_labels = kmeans_final.fit_predict(cleaned_datasets)\n"
      ],
      "metadata": {
        "id": "PQEkgq5eyBHt"
      },
      "execution_count": null,
      "outputs": []
    },
    {
      "cell_type": "markdown",
      "source": [
        "# **Adding some visualisation**\n"
      ],
      "metadata": {
        "id": "dgusvZjKeG-R"
      }
    },
    {
      "cell_type": "code",
      "source": [],
      "metadata": {
        "id": "xL52EVjAeRw4"
      },
      "execution_count": null,
      "outputs": []
    }
  ]
}